{
 "cells": [
  {
   "cell_type": "markdown",
   "metadata": {},
   "source": [
    "# BANKRUPTCY"
   ]
  },
  {
   "cell_type": "markdown",
   "metadata": {},
   "source": [
    "# IMPORTING LIBRARIES"
   ]
  },
  {
   "cell_type": "code",
   "execution_count": 17,
   "metadata": {},
   "outputs": [
    {
     "name": "stdout",
     "output_type": "stream",
     "text": [
      "env: OMP_NUM_THREADS=4\n"
     ]
    }
   ],
   "source": [
    "%env OMP_NUM_THREADS = 4"
   ]
  },
  {
   "cell_type": "code",
   "execution_count": 18,
   "metadata": {},
   "outputs": [],
   "source": [
    "import numpy as np\n",
    "import pandas as pd\n",
    "\n",
    "import matplotlib.pyplot as plt\n",
    "import pandas_profiling\n",
    "from pandas_profiling import ProfileReport\n",
    "\n",
    "from sklearn.model_selection import train_test_split\n",
    "from sklearn.model_selection import GridSearchCV\n",
    "from sklearn.metrics import roc_curve, auc, roc_auc_score, classification_report, confusion_matrix, make_scorer, f1_score,accuracy_score, cohen_kappa_score, log_loss\n",
    "from sklearn.ensemble import RandomForestClassifier\n",
    "from sklearn import svm\n",
    "from sklearn.utils import resample\n",
    "from imblearn.over_sampling import SMOTE\n",
    "\n",
    "from IPython.core.interactiveshell import InteractiveShell\n",
    "InteractiveShell.ast_node_interactivity = \"all\"\n",
    "\n",
    "from sklearn.pipeline import Pipeline\n",
    "from sklearn.pipeline import make_pipeline"
   ]
  },
  {
   "cell_type": "markdown",
   "metadata": {},
   "source": [
    "# READ THE DATA"
   ]
  },
  {
   "cell_type": "code",
   "execution_count": 19,
   "metadata": {},
   "outputs": [
    {
     "data": {
      "text/plain": [
       "['Data Year - Fiscal',\n",
       " \"Tobin's Q\",\n",
       " 'EPS',\n",
       " 'Liquidity',\n",
       " 'Profitability',\n",
       " 'Productivity',\n",
       " 'Leverage Ratio',\n",
       " 'Asset Turnover',\n",
       " 'Operational Margin',\n",
       " 'Return on Equity',\n",
       " 'Market Book Ratio',\n",
       " 'Assets Growth',\n",
       " 'Sales Growth',\n",
       " 'Employee Growth',\n",
       " 'BK']"
      ]
     },
     "execution_count": 19,
     "metadata": {},
     "output_type": "execute_result"
    },
    {
     "data": {
      "text/plain": [
       "(92872, 15)"
      ]
     },
     "execution_count": 19,
     "metadata": {},
     "output_type": "execute_result"
    },
    {
     "name": "stdout",
     "output_type": "stream",
     "text": [
      "<class 'pandas.core.frame.DataFrame'>\n",
      "RangeIndex: 92872 entries, 0 to 92871\n",
      "Data columns (total 15 columns):\n",
      " #   Column              Non-Null Count  Dtype  \n",
      "---  ------              --------------  -----  \n",
      " 0   Data Year - Fiscal  92872 non-null  int64  \n",
      " 1   Tobin's Q           92620 non-null  float64\n",
      " 2   EPS                 92867 non-null  float64\n",
      " 3   Liquidity           92625 non-null  float64\n",
      " 4   Profitability       92625 non-null  float64\n",
      " 5   Productivity        92625 non-null  float64\n",
      " 6   Leverage Ratio      92846 non-null  float64\n",
      " 7   Asset Turnover      92625 non-null  float64\n",
      " 8   Operational Margin  87315 non-null  float64\n",
      " 9   Return on Equity    92864 non-null  float64\n",
      " 10  Market Book Ratio   92815 non-null  float64\n",
      " 11  Assets Growth       86171 non-null  float64\n",
      " 12  Sales Growth        86171 non-null  float64\n",
      " 13  Employee Growth     85862 non-null  float64\n",
      " 14  BK                  92872 non-null  int64  \n",
      "dtypes: float64(13), int64(2)\n",
      "memory usage: 10.6 MB\n"
     ]
    },
    {
     "data": {
      "text/html": [
       "<div>\n",
       "<style scoped>\n",
       "    .dataframe tbody tr th:only-of-type {\n",
       "        vertical-align: middle;\n",
       "    }\n",
       "\n",
       "    .dataframe tbody tr th {\n",
       "        vertical-align: top;\n",
       "    }\n",
       "\n",
       "    .dataframe thead th {\n",
       "        text-align: right;\n",
       "    }\n",
       "</style>\n",
       "<table border=\"1\" class=\"dataframe\">\n",
       "  <thead>\n",
       "    <tr style=\"text-align: right;\">\n",
       "      <th></th>\n",
       "      <th>count</th>\n",
       "      <th>mean</th>\n",
       "      <th>std</th>\n",
       "      <th>min</th>\n",
       "      <th>25%</th>\n",
       "      <th>50%</th>\n",
       "      <th>75%</th>\n",
       "      <th>max</th>\n",
       "    </tr>\n",
       "  </thead>\n",
       "  <tbody>\n",
       "    <tr>\n",
       "      <th>Data Year - Fiscal</th>\n",
       "      <td>92872.0</td>\n",
       "      <td>2004.105888</td>\n",
       "      <td>9.875926</td>\n",
       "      <td>1.979000e+03</td>\n",
       "      <td>1998.000000</td>\n",
       "      <td>2006.000000</td>\n",
       "      <td>2012.000000</td>\n",
       "      <td>2017.00</td>\n",
       "    </tr>\n",
       "    <tr>\n",
       "      <th>Tobin's Q</th>\n",
       "      <td>92620.0</td>\n",
       "      <td>25.369008</td>\n",
       "      <td>902.818813</td>\n",
       "      <td>9.283364e-03</td>\n",
       "      <td>1.120000</td>\n",
       "      <td>1.540000</td>\n",
       "      <td>2.590000</td>\n",
       "      <td>194537.67</td>\n",
       "    </tr>\n",
       "    <tr>\n",
       "      <th>EPS</th>\n",
       "      <td>92867.0</td>\n",
       "      <td>-14.461355</td>\n",
       "      <td>2195.467288</td>\n",
       "      <td>-3.840000e+05</td>\n",
       "      <td>-0.140000</td>\n",
       "      <td>0.330000</td>\n",
       "      <td>1.530000</td>\n",
       "      <td>55339.00</td>\n",
       "    </tr>\n",
       "    <tr>\n",
       "      <th>Liquidity</th>\n",
       "      <td>92625.0</td>\n",
       "      <td>-2.631237</td>\n",
       "      <td>121.610921</td>\n",
       "      <td>-2.596852e+04</td>\n",
       "      <td>0.020000</td>\n",
       "      <td>0.190000</td>\n",
       "      <td>0.400000</td>\n",
       "      <td>1.00</td>\n",
       "    </tr>\n",
       "    <tr>\n",
       "      <th>Profitability</th>\n",
       "      <td>92625.0</td>\n",
       "      <td>-29.537274</td>\n",
       "      <td>677.230667</td>\n",
       "      <td>-7.968200e+04</td>\n",
       "      <td>-0.640000</td>\n",
       "      <td>0.070000</td>\n",
       "      <td>0.310000</td>\n",
       "      <td>140.58</td>\n",
       "    </tr>\n",
       "    <tr>\n",
       "      <th>Productivity</th>\n",
       "      <td>92625.0</td>\n",
       "      <td>-1.222870</td>\n",
       "      <td>35.885556</td>\n",
       "      <td>-5.093000e+03</td>\n",
       "      <td>-0.060000</td>\n",
       "      <td>0.060000</td>\n",
       "      <td>0.110000</td>\n",
       "      <td>1102.00</td>\n",
       "    </tr>\n",
       "    <tr>\n",
       "      <th>Leverage Ratio</th>\n",
       "      <td>92846.0</td>\n",
       "      <td>1.345316</td>\n",
       "      <td>253.038093</td>\n",
       "      <td>-7.811000e+03</td>\n",
       "      <td>0.000000</td>\n",
       "      <td>0.280000</td>\n",
       "      <td>0.820000</td>\n",
       "      <td>75970.38</td>\n",
       "    </tr>\n",
       "    <tr>\n",
       "      <th>Asset Turnover</th>\n",
       "      <td>92625.0</td>\n",
       "      <td>1.053613</td>\n",
       "      <td>2.115945</td>\n",
       "      <td>-3.159000e+01</td>\n",
       "      <td>0.390000</td>\n",
       "      <td>0.830000</td>\n",
       "      <td>1.390000</td>\n",
       "      <td>276.38</td>\n",
       "    </tr>\n",
       "    <tr>\n",
       "      <th>Operational Margin</th>\n",
       "      <td>87315.0</td>\n",
       "      <td>-7.915485</td>\n",
       "      <td>214.460079</td>\n",
       "      <td>-3.017570e+04</td>\n",
       "      <td>-0.030000</td>\n",
       "      <td>0.060000</td>\n",
       "      <td>0.140000</td>\n",
       "      <td>394.47</td>\n",
       "    </tr>\n",
       "    <tr>\n",
       "      <th>Return on Equity</th>\n",
       "      <td>92864.0</td>\n",
       "      <td>-2.112382</td>\n",
       "      <td>352.596902</td>\n",
       "      <td>-8.887514e+04</td>\n",
       "      <td>-0.080000</td>\n",
       "      <td>0.030000</td>\n",
       "      <td>0.070000</td>\n",
       "      <td>39500.00</td>\n",
       "    </tr>\n",
       "    <tr>\n",
       "      <th>Market Book Ratio</th>\n",
       "      <td>92815.0</td>\n",
       "      <td>358.506265</td>\n",
       "      <td>26063.637981</td>\n",
       "      <td>-3.151500e+06</td>\n",
       "      <td>11.200000</td>\n",
       "      <td>58.280000</td>\n",
       "      <td>240.140000</td>\n",
       "      <td>3455419.33</td>\n",
       "    </tr>\n",
       "    <tr>\n",
       "      <th>Assets Growth</th>\n",
       "      <td>86171.0</td>\n",
       "      <td>1.294075</td>\n",
       "      <td>73.769522</td>\n",
       "      <td>-1.000000e+00</td>\n",
       "      <td>-0.052596</td>\n",
       "      <td>0.051844</td>\n",
       "      <td>0.192062</td>\n",
       "      <td>14231.00</td>\n",
       "    </tr>\n",
       "    <tr>\n",
       "      <th>Sales Growth</th>\n",
       "      <td>86171.0</td>\n",
       "      <td>1.900108</td>\n",
       "      <td>177.632638</td>\n",
       "      <td>-2.743103e+01</td>\n",
       "      <td>-0.033522</td>\n",
       "      <td>0.059733</td>\n",
       "      <td>0.204231</td>\n",
       "      <td>39850.00</td>\n",
       "    </tr>\n",
       "    <tr>\n",
       "      <th>Employee Growth</th>\n",
       "      <td>85862.0</td>\n",
       "      <td>0.343322</td>\n",
       "      <td>14.074156</td>\n",
       "      <td>-1.000000e+00</td>\n",
       "      <td>-0.048107</td>\n",
       "      <td>0.017241</td>\n",
       "      <td>0.130944</td>\n",
       "      <td>2699.00</td>\n",
       "    </tr>\n",
       "    <tr>\n",
       "      <th>BK</th>\n",
       "      <td>92872.0</td>\n",
       "      <td>0.006008</td>\n",
       "      <td>0.077280</td>\n",
       "      <td>0.000000e+00</td>\n",
       "      <td>0.000000</td>\n",
       "      <td>0.000000</td>\n",
       "      <td>0.000000</td>\n",
       "      <td>1.00</td>\n",
       "    </tr>\n",
       "  </tbody>\n",
       "</table>\n",
       "</div>"
      ],
      "text/plain": [
       "                      count         mean           std           min  \\\n",
       "Data Year - Fiscal  92872.0  2004.105888      9.875926  1.979000e+03   \n",
       "Tobin's Q           92620.0    25.369008    902.818813  9.283364e-03   \n",
       "EPS                 92867.0   -14.461355   2195.467288 -3.840000e+05   \n",
       "Liquidity           92625.0    -2.631237    121.610921 -2.596852e+04   \n",
       "Profitability       92625.0   -29.537274    677.230667 -7.968200e+04   \n",
       "Productivity        92625.0    -1.222870     35.885556 -5.093000e+03   \n",
       "Leverage Ratio      92846.0     1.345316    253.038093 -7.811000e+03   \n",
       "Asset Turnover      92625.0     1.053613      2.115945 -3.159000e+01   \n",
       "Operational Margin  87315.0    -7.915485    214.460079 -3.017570e+04   \n",
       "Return on Equity    92864.0    -2.112382    352.596902 -8.887514e+04   \n",
       "Market Book Ratio   92815.0   358.506265  26063.637981 -3.151500e+06   \n",
       "Assets Growth       86171.0     1.294075     73.769522 -1.000000e+00   \n",
       "Sales Growth        86171.0     1.900108    177.632638 -2.743103e+01   \n",
       "Employee Growth     85862.0     0.343322     14.074156 -1.000000e+00   \n",
       "BK                  92872.0     0.006008      0.077280  0.000000e+00   \n",
       "\n",
       "                            25%          50%          75%         max  \n",
       "Data Year - Fiscal  1998.000000  2006.000000  2012.000000     2017.00  \n",
       "Tobin's Q              1.120000     1.540000     2.590000   194537.67  \n",
       "EPS                   -0.140000     0.330000     1.530000    55339.00  \n",
       "Liquidity              0.020000     0.190000     0.400000        1.00  \n",
       "Profitability         -0.640000     0.070000     0.310000      140.58  \n",
       "Productivity          -0.060000     0.060000     0.110000     1102.00  \n",
       "Leverage Ratio         0.000000     0.280000     0.820000    75970.38  \n",
       "Asset Turnover         0.390000     0.830000     1.390000      276.38  \n",
       "Operational Margin    -0.030000     0.060000     0.140000      394.47  \n",
       "Return on Equity      -0.080000     0.030000     0.070000    39500.00  \n",
       "Market Book Ratio     11.200000    58.280000   240.140000  3455419.33  \n",
       "Assets Growth         -0.052596     0.051844     0.192062    14231.00  \n",
       "Sales Growth          -0.033522     0.059733     0.204231    39850.00  \n",
       "Employee Growth       -0.048107     0.017241     0.130944     2699.00  \n",
       "BK                     0.000000     0.000000     0.000000        1.00  "
      ]
     },
     "execution_count": 19,
     "metadata": {},
     "output_type": "execute_result"
    },
    {
     "data": {
      "text/html": [
       "<div>\n",
       "<style scoped>\n",
       "    .dataframe tbody tr th:only-of-type {\n",
       "        vertical-align: middle;\n",
       "    }\n",
       "\n",
       "    .dataframe tbody tr th {\n",
       "        vertical-align: top;\n",
       "    }\n",
       "\n",
       "    .dataframe thead th {\n",
       "        text-align: right;\n",
       "    }\n",
       "</style>\n",
       "<table border=\"1\" class=\"dataframe\">\n",
       "  <thead>\n",
       "    <tr style=\"text-align: right;\">\n",
       "      <th></th>\n",
       "      <th>Data Year - Fiscal</th>\n",
       "      <th>Tobin's Q</th>\n",
       "      <th>EPS</th>\n",
       "      <th>Liquidity</th>\n",
       "      <th>Profitability</th>\n",
       "      <th>Productivity</th>\n",
       "      <th>Leverage Ratio</th>\n",
       "      <th>Asset Turnover</th>\n",
       "      <th>Operational Margin</th>\n",
       "      <th>Return on Equity</th>\n",
       "      <th>Market Book Ratio</th>\n",
       "      <th>Assets Growth</th>\n",
       "      <th>Sales Growth</th>\n",
       "      <th>Employee Growth</th>\n",
       "      <th>BK</th>\n",
       "    </tr>\n",
       "  </thead>\n",
       "  <tbody>\n",
       "    <tr>\n",
       "      <th>0</th>\n",
       "      <td>1979</td>\n",
       "      <td>0.98</td>\n",
       "      <td>1.58</td>\n",
       "      <td>0.36</td>\n",
       "      <td>0.18</td>\n",
       "      <td>0.13</td>\n",
       "      <td>1.33</td>\n",
       "      <td>1.77</td>\n",
       "      <td>0.07</td>\n",
       "      <td>0.15</td>\n",
       "      <td>2.22</td>\n",
       "      <td>NaN</td>\n",
       "      <td>NaN</td>\n",
       "      <td>NaN</td>\n",
       "      <td>0</td>\n",
       "    </tr>\n",
       "    <tr>\n",
       "      <th>1</th>\n",
       "      <td>1980</td>\n",
       "      <td>0.98</td>\n",
       "      <td>1.41</td>\n",
       "      <td>0.36</td>\n",
       "      <td>0.19</td>\n",
       "      <td>0.12</td>\n",
       "      <td>1.31</td>\n",
       "      <td>1.59</td>\n",
       "      <td>0.07</td>\n",
       "      <td>0.13</td>\n",
       "      <td>2.41</td>\n",
       "      <td>0.126319</td>\n",
       "      <td>0.014278</td>\n",
       "      <td>0.040179</td>\n",
       "      <td>0</td>\n",
       "    </tr>\n",
       "    <tr>\n",
       "      <th>2</th>\n",
       "      <td>1981</td>\n",
       "      <td>0.87</td>\n",
       "      <td>0.31</td>\n",
       "      <td>0.32</td>\n",
       "      <td>0.13</td>\n",
       "      <td>0.08</td>\n",
       "      <td>1.03</td>\n",
       "      <td>1.55</td>\n",
       "      <td>0.05</td>\n",
       "      <td>0.04</td>\n",
       "      <td>2.56</td>\n",
       "      <td>0.368077</td>\n",
       "      <td>0.327909</td>\n",
       "      <td>0.566524</td>\n",
       "      <td>0</td>\n",
       "    </tr>\n",
       "    <tr>\n",
       "      <th>3</th>\n",
       "      <td>1982</td>\n",
       "      <td>1.13</td>\n",
       "      <td>0.71</td>\n",
       "      <td>0.28</td>\n",
       "      <td>0.14</td>\n",
       "      <td>0.08</td>\n",
       "      <td>0.80</td>\n",
       "      <td>1.39</td>\n",
       "      <td>0.06</td>\n",
       "      <td>0.05</td>\n",
       "      <td>5.28</td>\n",
       "      <td>-0.020809</td>\n",
       "      <td>-0.118904</td>\n",
       "      <td>-0.095890</td>\n",
       "      <td>0</td>\n",
       "    </tr>\n",
       "    <tr>\n",
       "      <th>4</th>\n",
       "      <td>1983</td>\n",
       "      <td>1.26</td>\n",
       "      <td>0.75</td>\n",
       "      <td>0.41</td>\n",
       "      <td>0.13</td>\n",
       "      <td>0.08</td>\n",
       "      <td>0.20</td>\n",
       "      <td>1.30</td>\n",
       "      <td>0.06</td>\n",
       "      <td>0.04</td>\n",
       "      <td>8.68</td>\n",
       "      <td>0.233089</td>\n",
       "      <td>0.146807</td>\n",
       "      <td>0.053030</td>\n",
       "      <td>0</td>\n",
       "    </tr>\n",
       "    <tr>\n",
       "      <th>5</th>\n",
       "      <td>1984</td>\n",
       "      <td>1.17</td>\n",
       "      <td>1.50</td>\n",
       "      <td>0.37</td>\n",
       "      <td>0.16</td>\n",
       "      <td>0.11</td>\n",
       "      <td>0.34</td>\n",
       "      <td>1.41</td>\n",
       "      <td>0.08</td>\n",
       "      <td>0.08</td>\n",
       "      <td>7.82</td>\n",
       "      <td>0.132458</td>\n",
       "      <td>0.231681</td>\n",
       "      <td>0.076978</td>\n",
       "      <td>0</td>\n",
       "    </tr>\n",
       "    <tr>\n",
       "      <th>6</th>\n",
       "      <td>1985</td>\n",
       "      <td>1.60</td>\n",
       "      <td>1.26</td>\n",
       "      <td>0.36</td>\n",
       "      <td>0.16</td>\n",
       "      <td>0.11</td>\n",
       "      <td>0.60</td>\n",
       "      <td>1.25</td>\n",
       "      <td>0.09</td>\n",
       "      <td>0.05</td>\n",
       "      <td>20.51</td>\n",
       "      <td>0.275937</td>\n",
       "      <td>0.132754</td>\n",
       "      <td>0.189045</td>\n",
       "      <td>0</td>\n",
       "    </tr>\n",
       "    <tr>\n",
       "      <th>7</th>\n",
       "      <td>1986</td>\n",
       "      <td>1.79</td>\n",
       "      <td>1.46</td>\n",
       "      <td>0.37</td>\n",
       "      <td>0.18</td>\n",
       "      <td>0.12</td>\n",
       "      <td>0.36</td>\n",
       "      <td>1.27</td>\n",
       "      <td>0.10</td>\n",
       "      <td>0.05</td>\n",
       "      <td>25.10</td>\n",
       "      <td>0.185610</td>\n",
       "      <td>0.202329</td>\n",
       "      <td>0.016854</td>\n",
       "      <td>0</td>\n",
       "    </tr>\n",
       "    <tr>\n",
       "      <th>8</th>\n",
       "      <td>1987</td>\n",
       "      <td>1.87</td>\n",
       "      <td>1.34</td>\n",
       "      <td>0.37</td>\n",
       "      <td>0.21</td>\n",
       "      <td>0.12</td>\n",
       "      <td>0.48</td>\n",
       "      <td>1.22</td>\n",
       "      <td>0.10</td>\n",
       "      <td>0.05</td>\n",
       "      <td>42.05</td>\n",
       "      <td>0.212075</td>\n",
       "      <td>0.165826</td>\n",
       "      <td>0.099448</td>\n",
       "      <td>0</td>\n",
       "    </tr>\n",
       "    <tr>\n",
       "      <th>9</th>\n",
       "      <td>1988</td>\n",
       "      <td>1.92</td>\n",
       "      <td>1.55</td>\n",
       "      <td>0.36</td>\n",
       "      <td>0.22</td>\n",
       "      <td>0.13</td>\n",
       "      <td>0.56</td>\n",
       "      <td>1.14</td>\n",
       "      <td>0.11</td>\n",
       "      <td>0.05</td>\n",
       "      <td>46.68</td>\n",
       "      <td>0.250723</td>\n",
       "      <td>0.168910</td>\n",
       "      <td>0.276382</td>\n",
       "      <td>0</td>\n",
       "    </tr>\n",
       "  </tbody>\n",
       "</table>\n",
       "</div>"
      ],
      "text/plain": [
       "   Data Year - Fiscal  Tobin's Q   EPS  Liquidity  Profitability  \\\n",
       "0                1979       0.98  1.58       0.36           0.18   \n",
       "1                1980       0.98  1.41       0.36           0.19   \n",
       "2                1981       0.87  0.31       0.32           0.13   \n",
       "3                1982       1.13  0.71       0.28           0.14   \n",
       "4                1983       1.26  0.75       0.41           0.13   \n",
       "5                1984       1.17  1.50       0.37           0.16   \n",
       "6                1985       1.60  1.26       0.36           0.16   \n",
       "7                1986       1.79  1.46       0.37           0.18   \n",
       "8                1987       1.87  1.34       0.37           0.21   \n",
       "9                1988       1.92  1.55       0.36           0.22   \n",
       "\n",
       "   Productivity  Leverage Ratio  Asset Turnover  Operational Margin  \\\n",
       "0          0.13            1.33            1.77                0.07   \n",
       "1          0.12            1.31            1.59                0.07   \n",
       "2          0.08            1.03            1.55                0.05   \n",
       "3          0.08            0.80            1.39                0.06   \n",
       "4          0.08            0.20            1.30                0.06   \n",
       "5          0.11            0.34            1.41                0.08   \n",
       "6          0.11            0.60            1.25                0.09   \n",
       "7          0.12            0.36            1.27                0.10   \n",
       "8          0.12            0.48            1.22                0.10   \n",
       "9          0.13            0.56            1.14                0.11   \n",
       "\n",
       "   Return on Equity  Market Book Ratio  Assets Growth  Sales Growth  \\\n",
       "0              0.15               2.22            NaN           NaN   \n",
       "1              0.13               2.41       0.126319      0.014278   \n",
       "2              0.04               2.56       0.368077      0.327909   \n",
       "3              0.05               5.28      -0.020809     -0.118904   \n",
       "4              0.04               8.68       0.233089      0.146807   \n",
       "5              0.08               7.82       0.132458      0.231681   \n",
       "6              0.05              20.51       0.275937      0.132754   \n",
       "7              0.05              25.10       0.185610      0.202329   \n",
       "8              0.05              42.05       0.212075      0.165826   \n",
       "9              0.05              46.68       0.250723      0.168910   \n",
       "\n",
       "   Employee Growth  BK  \n",
       "0              NaN   0  \n",
       "1         0.040179   0  \n",
       "2         0.566524   0  \n",
       "3        -0.095890   0  \n",
       "4         0.053030   0  \n",
       "5         0.076978   0  \n",
       "6         0.189045   0  \n",
       "7         0.016854   0  \n",
       "8         0.099448   0  \n",
       "9         0.276382   0  "
      ]
     },
     "execution_count": 19,
     "metadata": {},
     "output_type": "execute_result"
    }
   ],
   "source": [
    "#Reading the data\n",
    "df = pd.read_excel(\"Bankruptcy_data_Final.xlsx\")\n",
    "\n",
    "#Vieweing Data to see all the features within the dataset\n",
    "list(df)\n",
    "df.shape\n",
    "df.info()\n",
    "df.describe().transpose()\n",
    "df.head(n=10)"
   ]
  },
  {
   "cell_type": "markdown",
   "metadata": {},
   "source": [
    "# Data Cleaning and Feature Engineering"
   ]
  },
  {
   "cell_type": "code",
   "execution_count": 20,
   "metadata": {},
   "outputs": [],
   "source": [
    "#Filling na with 0\n",
    "df = df.fillna(0)"
   ]
  },
  {
   "cell_type": "code",
   "execution_count": 21,
   "metadata": {},
   "outputs": [],
   "source": [
    "df_bk=df.copy()"
   ]
  },
  {
   "cell_type": "code",
   "execution_count": 11,
   "metadata": {},
   "outputs": [],
   "source": [
    "#Feature Engineering - Scaling the numerical features\n",
    "#Scaling Data - Standardization \n",
    "#Data is scaled so that all numbers can be viewed at one standard level\n",
    "\n",
    "#First step - remove \"target variable\" from data as we do not need to scale target variable\n",
    "#X = df_bk.copy()\n",
    "#X = X.drop(['BK'],axis=1)\n",
    "\n",
    "#Scaling the numerical features\n",
    "#scaler = StandardScaler()\n",
    "#features = list(X.select_dtypes(include=np.number).columns)\n",
    "#X[features] = scaler.fit_transform(X[features])\n",
    "\n",
    "#Adding taregt variable purchase back to the scaled data\n",
    "#X['BK']=df_bk['BK']\n",
    "\n",
    "#df_bk=X.copy()\n",
    "#df_bk"
   ]
  },
  {
   "cell_type": "code",
   "execution_count": 22,
   "metadata": {},
   "outputs": [
    {
     "data": {
      "text/plain": [
       "0    92314\n",
       "1      558\n",
       "Name: BK, dtype: int64"
      ]
     },
     "execution_count": 22,
     "metadata": {},
     "output_type": "execute_result"
    }
   ],
   "source": [
    "#Value counts for \n",
    "df_bk['BK'].value_counts()"
   ]
  },
  {
   "cell_type": "code",
   "execution_count": 23,
   "metadata": {},
   "outputs": [],
   "source": [
    "#Feature Enginnering ratios\n",
    "df_bk['ratio1']=df_bk['Liquidity']*df_bk['Profitability']\n",
    "df_bk['ratio2']=df_bk['Leverage Ratio']*df_bk['Asset Turnover']\n",
    "df_bk['ratio3']=df_bk['Profitability']*df_bk['Productivity']\n",
    "df_bk['ratio4']=df_bk['Operational Margin']*df_bk['Asset Turnover']\n",
    "df_bk['ratio5']=df_bk['Return on Equity']*df_bk['EPS']\n",
    "df_bk['ratio6']=df_bk['Return on Equity']*df_bk['Operational Margin']\n",
    "\n",
    "df_bk = df_bk.fillna(0)"
   ]
  },
  {
   "cell_type": "code",
   "execution_count": 24,
   "metadata": {},
   "outputs": [],
   "source": [
    "#Converting date into categorical\n",
    "df['Data Year - Fiscal'] = df['Data Year - Fiscal'].astype(\"category\")"
   ]
  },
  {
   "cell_type": "markdown",
   "metadata": {},
   "source": [
    "# Splitting Data into Train, Test"
   ]
  },
  {
   "cell_type": "code",
   "execution_count": 25,
   "metadata": {},
   "outputs": [
    {
     "data": {
      "text/plain": [
       "(74297, 20)"
      ]
     },
     "execution_count": 25,
     "metadata": {},
     "output_type": "execute_result"
    },
    {
     "data": {
      "text/plain": [
       "(18575, 20)"
      ]
     },
     "execution_count": 25,
     "metadata": {},
     "output_type": "execute_result"
    },
    {
     "data": {
      "text/plain": [
       "(74297,)"
      ]
     },
     "execution_count": 25,
     "metadata": {},
     "output_type": "execute_result"
    },
    {
     "data": {
      "text/plain": [
       "(18575,)"
      ]
     },
     "execution_count": 25,
     "metadata": {},
     "output_type": "execute_result"
    }
   ],
   "source": [
    "#Splitting data into train and test\n",
    "#The main reason why we split the data into train and test set is to check how well our model will perform on data it has never seen before\n",
    "#The performance on test data will give us an idea of how the model will perorm in the furture on unseen data\n",
    "\n",
    "#I Have used stratified sampling method for splitting the dataset into train and test data\n",
    "#The reason why i used stratified sampling is as follows:\n",
    "#Stratified sampling ensures that the train and test sets have approximately the same percentage of samples of each target class as the complete set.\n",
    "y = df_bk['BK']\n",
    "X = df_bk.drop(columns = 'BK')\n",
    "X_train, X_test, y_train, y_test = train_test_split(X,y, test_size = 0.20, stratify=y, random_state=42)\n",
    "X_train.shape\n",
    "X_test.shape\n",
    "y_train.shape\n",
    "y_test.shape\n"
   ]
  },
  {
   "cell_type": "markdown",
   "metadata": {},
   "source": [
    "# Creating Performace Metrics"
   ]
  },
  {
   "cell_type": "code",
   "execution_count": 26,
   "metadata": {},
   "outputs": [],
   "source": [
    "# ROC curve\n",
    "def plot_roc(y_test, y_pred):\n",
    "    fpr, tpr, thresholds = roc_curve(y_test, y_pred, pos_label=1, drop_intermediate = False)\n",
    "    roc_auc = auc(fpr, tpr)\n",
    "    plt.figure()\n",
    "    lw = 2\n",
    "    plt.plot(fpr, tpr, color='darkorange',\n",
    "             lw=lw, label='ROC curve (AUC = %0.2f)' % roc_auc)\n",
    "    plt.plot([0, 1], [0, 1], color='navy', lw=lw, linestyle='--')\n",
    "    plt.xlim([-0.001, 1.001])\n",
    "    plt.ylim([-0.001, 1.001])\n",
    "    plt.xlabel('1-Specificity (False Negative Rate)')\n",
    "    plt.ylabel('Sensitivity (True Positive Rate)')\n",
    "    plt.title('ROC curve')\n",
    "    plt.legend(loc=\"lower right\")\n",
    "    plt.show()\n",
    "\n",
    "# Confusion Matrix returns in the format: cm[0,0], cm[0,1], cm[1,0], cm[1,1]: tn, fp, fn, tp\n"
   ]
  },
  {
   "cell_type": "markdown",
   "metadata": {},
   "source": [
    "# CLASSIFICATION MODELS"
   ]
  },
  {
   "cell_type": "markdown",
   "metadata": {},
   "source": [
    "# 1. Random Forest"
   ]
  },
  {
   "cell_type": "markdown",
   "metadata": {},
   "source": [
    "## Grid Search for Hyper Paramter tuning with Cross Validation"
   ]
  },
  {
   "cell_type": "code",
   "execution_count": 26,
   "metadata": {},
   "outputs": [],
   "source": [
    "#Grid Search with cross validation\n",
    "\n",
    "#Score_func defines the performance measure(auc) which the gridsearchCV should use\n",
    "score_func = make_scorer(roc_auc_score, greater_is_better=True)\n",
    "\n",
    "# Create a parameter grid to test various hyper parameter values\n",
    "param_grid_rf = {\n",
    "    'max_depth': [80, 100],\n",
    "    'max_features': [2, 3],\n",
    "    'min_samples_leaf': [3, 4],\n",
    "    'min_samples_split': [8, 10],\n",
    "    'n_estimators': [100, 300]}\n",
    "\n",
    "# Defining the Random Forest Classifier model\n",
    "classifier_RF = RandomForestClassifier(random_state=77300)\n",
    "new_params = {'randomforestclassifier__' + key: param_grid_rf[key] for key in param_grid_rf}\n",
    "\n",
    "# Hyper-parameter tuning (\"optimization\") using the function GridSearchCV for maximizing AUC\n",
    "# 5-fold cross-validation\n",
    "# Instantiate the grid search model\n",
    "from sklearn.pipeline import Pipeline\n",
    "from imblearn.over_sampling import SMOTE\n",
    "from imblearn.pipeline import make_pipeline\n",
    "from sklearn.model_selection import RepeatedKFold\n",
    "from imblearn.under_sampling import RandomUnderSampler\n",
    "\n",
    "sm = SMOTE(random_state=42)\n",
    "pipeline = make_pipeline(sm,classifier_RF)\n",
    "\n",
    "\n",
    "#X_train_better, y_train_better = rus.fit_resample(X_train, y_train)\n",
    "\n",
    "cv = RepeatedKFold(n_splits=5, n_repeats=2)\n",
    "grid_search_rf = GridSearchCV(estimator = pipeline, param_grid = new_params, \n",
    "                          cv = cv , scoring = score_func, return_train_score = True, n_jobs=-1, verbose = 2)"
   ]
  },
  {
   "cell_type": "markdown",
   "metadata": {},
   "source": [
    "## Fitting the Model"
   ]
  },
  {
   "cell_type": "code",
   "execution_count": 12,
   "metadata": {},
   "outputs": [
    {
     "name": "stdout",
     "output_type": "stream",
     "text": [
      "Fitting 8 folds for each of 32 candidates, totalling 256 fits\n"
     ]
    },
    {
     "name": "stderr",
     "output_type": "stream",
     "text": [
      "[Parallel(n_jobs=-1)]: Using backend LokyBackend with 12 concurrent workers.\n",
      "[Parallel(n_jobs=-1)]: Done  17 tasks      | elapsed:  4.2min\n",
      "[Parallel(n_jobs=-1)]: Done 138 tasks      | elapsed: 32.6min\n",
      "[Parallel(n_jobs=-1)]: Done 256 out of 256 | elapsed: 59.3min finished\n"
     ]
    }
   ],
   "source": [
    "#Fitting the model to the training dataset\n",
    "grid_search_RF = grid_search_rf.fit(X_train, y_train)"
   ]
  },
  {
   "cell_type": "markdown",
   "metadata": {},
   "source": [
    "## Best Hyper-Parameter Values"
   ]
  },
  {
   "cell_type": "code",
   "execution_count": 13,
   "metadata": {
    "scrolled": false
   },
   "outputs": [
    {
     "name": "stdout",
     "output_type": "stream",
     "text": [
      "\n",
      "Best Hyper-Parameter values Random Forest:{'randomforestclassifier__max_depth': 80, 'randomforestclassifier__max_features': 3, 'randomforestclassifier__min_samples_leaf': 4, 'randomforestclassifier__min_samples_split': 10, 'randomforestclassifier__n_estimators': 300}\n"
     ]
    },
    {
     "data": {
      "text/plain": [
       "{'randomforestclassifier__max_depth': 80,\n",
       " 'randomforestclassifier__max_features': 3,\n",
       " 'randomforestclassifier__min_samples_leaf': 4,\n",
       " 'randomforestclassifier__min_samples_split': 10,\n",
       " 'randomforestclassifier__n_estimators': 300}"
      ]
     },
     "execution_count": 13,
     "metadata": {},
     "output_type": "execute_result"
    },
    {
     "data": {
      "text/plain": [
       "Pipeline(steps=[('smote', SMOTE(random_state=42)),\n",
       "                ('randomforestclassifier',\n",
       "                 RandomForestClassifier(max_depth=80, max_features=3,\n",
       "                                        min_samples_leaf=4,\n",
       "                                        min_samples_split=10, n_estimators=300,\n",
       "                                        random_state=77300))])"
      ]
     },
     "execution_count": 13,
     "metadata": {},
     "output_type": "execute_result"
    },
    {
     "name": "stdout",
     "output_type": "stream",
     "text": [
      "\n",
      "Best Score Random Forest: 0.7412824530044131\n"
     ]
    }
   ],
   "source": [
    "#Finding out which are the best hyper parameter values where auc for the model is highest\n",
    "print('\\nBest Hyper-Parameter values Random Forest:'+str(grid_search_RF.best_params_))\n",
    "grid_search_RF.best_params_\n",
    "\n",
    "#Best Estimator for Random Forest Model\n",
    "best_grid_rf = grid_search_RF.best_estimator_\n",
    "best_grid_rf\n",
    "\n",
    "#Score of the best model\n",
    "best_result_rf = grid_search_RF.best_score_\n",
    "print(\"\\nBest Score Random Forest: \" + str(best_result_rf))"
   ]
  },
  {
   "cell_type": "markdown",
   "metadata": {},
   "source": [
    "## Using the Best Model to predict testing data"
   ]
  },
  {
   "cell_type": "code",
   "execution_count": 14,
   "metadata": {},
   "outputs": [],
   "source": [
    "#Using the above (best) model with the best hyper parameter values to predict the testing data\n",
    "class_threshold = 0.50\n",
    "y_pred_prob_rf = grid_search_RF.predict_proba(X_test)[:,1]\n",
    "y_pred_rf = np.where(y_pred_prob_rf > class_threshold, 1, 0) # classification"
   ]
  },
  {
   "cell_type": "markdown",
   "metadata": {},
   "source": [
    "## Performance Measure"
   ]
  },
  {
   "cell_type": "code",
   "execution_count": 15,
   "metadata": {
    "scrolled": true
   },
   "outputs": [
    {
     "name": "stdout",
     "output_type": "stream",
     "text": [
      "\n",
      "Confusion matrix Random Forest: \n",
      "[[18159    64]\n",
      " [  304    48]]\n",
      "\n",
      "AUC Random Forest: 0.9490496436889223\n"
     ]
    },
    {
     "data": {
      "image/png": "[encoded data removed]",
      "text/plain": [
       "<Figure size 432x288 with 1 Axes>"
      ]
     },
     "metadata": {
      "needs_background": "light"
     },
     "output_type": "display_data"
    }
   ],
   "source": [
    "## Performance Measure\n",
    "\n",
    "#Confusion Matrix\n",
    "cm_rf = np.transpose(confusion_matrix(y_test, y_pred_rf))\n",
    "print(\"\\nConfusion matrix Random Forest: \\n\" + str(cm_rf))\n",
    "\n",
    "#Auc Calculation\n",
    "auc_rf=roc_auc_score(y_test, y_pred_prob_rf)\n",
    "print(\"\\nAUC Random Forest: \" +str(auc_rf))\n",
    "\n",
    "#ROC plot\n",
    "plot_roc(y_test, y_pred_prob_rf)"
   ]
  },
  {
   "cell_type": "code",
   "execution_count": 19,
   "metadata": {},
   "outputs": [
    {
     "name": "stdout",
     "output_type": "stream",
     "text": [
      "              precision    recall  f1-score   support\n",
      "\n",
      "           0       1.00      0.98      0.99     18463\n",
      "           1       0.14      0.43      0.21       112\n",
      "\n",
      "    accuracy                           0.98     18575\n",
      "   macro avg       0.57      0.71      0.60     18575\n",
      "weighted avg       0.99      0.98      0.99     18575\n",
      "\n"
     ]
    }
   ],
   "source": [
    "from sklearn.metrics import classification_report\n",
    "#class_names=[str(x) for x in classifier_RF.]\n",
    "print(classification_report(y_test,y_pred_rf))"
   ]
  },
  {
   "cell_type": "markdown",
   "metadata": {},
   "source": [
    "## Feature Importance Plot"
   ]
  },
  {
   "cell_type": "code",
   "execution_count": 276,
   "metadata": {},
   "outputs": [
    {
     "data": {
      "text/plain": [
       "<Figure size 1080x360 with 0 Axes>"
      ]
     },
     "execution_count": 276,
     "metadata": {},
     "output_type": "execute_result"
    },
    {
     "data": {
      "text/plain": [
       "Text(0.5, 1.0, 'Feature Importance Random Forest')"
      ]
     },
     "execution_count": 276,
     "metadata": {},
     "output_type": "execute_result"
    },
    {
     "data": {
      "text/plain": [
       "Text(0.5, 0, 'Decrease in Gini (recal, Gini = 2*AUC-1)')"
      ]
     },
     "execution_count": 276,
     "metadata": {},
     "output_type": "execute_result"
    },
    {
     "data": {
      "text/plain": [
       "<matplotlib.axes._subplots.AxesSubplot at 0x20100f2bfa0>"
      ]
     },
     "execution_count": 276,
     "metadata": {},
     "output_type": "execute_result"
    },
    {
     "data": {
      "image/png": "[encoded data removed]",
      "text/plain": [
       "<Figure size 1080x360 with 1 Axes>"
      ]
     },
     "metadata": {
      "needs_background": "light"
     },
     "output_type": "display_data"
    }
   ],
   "source": [
    "#Feature Importance - Using Random Forest Model\n",
    "#importances = grid_search_RF.best_estimator_.feature_importances_ \n",
    "\n",
    "#Plot the varibales according to their importance\n",
    "#plt.figure(figsize=(15,5))\n",
    "#plt.title('Feature Importance Random Forest')\n",
    "#plt.xlabel('Decrease in Gini (recal, Gini = 2*AUC-1)')\n",
    "#feature_importances = pd.Series(grid_search_RF.best_estimator_.feature_importances_ , index=X_train.columns)\n",
    "#feature_importances.nlargest(17).sort_values().plot(kind='barh', align='center')"
   ]
  },
  {
   "cell_type": "markdown",
   "metadata": {},
   "source": [
    "# SVM Model"
   ]
  },
  {
   "cell_type": "markdown",
   "metadata": {},
   "source": [
    "## Grid Search for Hyper Paramter tuning with Cross Validation"
   ]
  },
  {
   "cell_type": "code",
   "execution_count": 30,
   "metadata": {},
   "outputs": [
    {
     "data": {
      "text/plain": [
       "{'svc__kernel': ['linear'],\n",
       " 'svc__gamma': [0.001, 0.01, 0.1],\n",
       " 'svc__C': [1, 10, 100, 1000]}"
      ]
     },
     "execution_count": 30,
     "metadata": {},
     "output_type": "execute_result"
    }
   ],
   "source": [
    "#Grid Search with cross validation\n",
    "from sklearn.pipeline import Pipeline\n",
    "from imblearn.over_sampling import SMOTE\n",
    "from imblearn.pipeline import make_pipeline\n",
    "from sklearn.model_selection import RepeatedKFold\n",
    "\n",
    "#Score_func defines the performance measure with which the gridsearchCV should use\n",
    "score_func = make_scorer(roc_auc_score, greater_is_better=True)\n",
    "\n",
    "# Create the parameter grid to test various hyper parameters\n",
    "#param_grid_svm = {'kernel': ['rbf'], 'gamma': [0.001, 0.01,0.1],\n",
    "                    # 'C': [1, 10, 100, 1000]}\n",
    "#new_params_svm = {'svc__' + key: param_grid_svm[key] for key in param_grid_svm}  \n",
    "\n",
    "##remi\n",
    "param_grid_svm = {'kernel': ['linear'], 'gamma': [0.001, 0.01,0.1],'C': [1, 10, 100, 1000]}\n",
    "new_params_svm = {'svc__' + key: param_grid_svm[key] for key in param_grid_svm}\n",
    "\n",
    "#Define the SVM model\n",
    "svm_model = svm.SVC(probability=True,random_state=77300)\n",
    "\n",
    "#Smote sampling\n",
    "sm = SMOTE(random_state=42)\n",
    "pipeline = make_pipeline(sm,svm_model)\n",
    "\n",
    "# Hyper-parameter tuning (\"optimization\") using the function GridSearchCV for maximizing AUC\n",
    "#5-fold cross-validation\n",
    "# Instantiate the grid search model\n",
    "cv = RepeatedKFold(n_splits=5, n_repeats=2)\n",
    "grid_search_svm = GridSearchCV(estimator = pipeline, param_grid = new_params_svm, \n",
    "                          cv = cv, scoring = score_func, return_train_score = True, n_jobs=-1, verbose = 2)\n",
    "\n",
    "new_params_svm"
   ]
  },
  {
   "cell_type": "markdown",
   "metadata": {},
   "source": [
    "## Fitting the Model"
   ]
  },
  {
   "cell_type": "code",
   "execution_count": null,
   "metadata": {},
   "outputs": [
    {
     "name": "stdout",
     "output_type": "stream",
     "text": [
      "Fitting 10 folds for each of 12 candidates, totalling 120 fits\n"
     ]
    },
    {
     "name": "stderr",
     "output_type": "stream",
     "text": [
      "[Parallel(n_jobs=-1)]: Using backend LokyBackend with 8 concurrent workers.\n"
     ]
    }
   ],
   "source": [
    "#Fitting the model to training data\n",
    "grid_search_SVM = grid_search_svm.fit(X_train, y_train)"
   ]
  },
  {
   "cell_type": "markdown",
   "metadata": {},
   "source": [
    "## Best Hyper-Parameter Values"
   ]
  },
  {
   "cell_type": "code",
   "execution_count": null,
   "metadata": {},
   "outputs": [],
   "source": [
    "#Finding out which are the best hyper parameter values where auc for the model is highest\n",
    "print('\\nBest Hyper-Parameter values SVM:' + str(grid_search_SVM.best_params_)) \n",
    "grid_search_SVM.best_params_\n",
    "\n",
    "#Best Estimator for SVM Model\n",
    "best_grid_svm = grid_search_SVM.best_estimator_\n",
    "best_grid_svm\n",
    "\n",
    "#Viweing the best score of the model\n",
    "best_result_svm = grid_search_SVM.best_score_\n",
    "print(\"\\nBest Score SVM: \"+str(best_result_svm))"
   ]
  },
  {
   "cell_type": "markdown",
   "metadata": {},
   "source": [
    "## Using the Best Model to predict testing data¶"
   ]
  },
  {
   "cell_type": "code",
   "execution_count": null,
   "metadata": {},
   "outputs": [],
   "source": [
    "#Using the above (best) model with the best hyper parameter values to predict the testing data\n",
    "class_threshold=0.50\n",
    "y_pred_prob_svm = grid_search_SVM.predict_proba(X_test)[:,1] # probabilities\n",
    "y_pred_svm = np.where(y_pred_prob_svm > class_threshold, 1, 0) # classification"
   ]
  },
  {
   "cell_type": "markdown",
   "metadata": {},
   "source": [
    "## Performace Measures"
   ]
  },
  {
   "cell_type": "code",
   "execution_count": null,
   "metadata": {},
   "outputs": [],
   "source": [
    "## Performance Measures\n",
    "#Confusion Matrix\n",
    "cm_svm = np.transpose(confusion_matrix(y_test, y_pred_svm))\n",
    "print(\"\\nConfusion matrix SVM: \\n\" + str(cm_svm))\n",
    "\n",
    "#Auc Calculation\n",
    "auc_svm = roc_auc_score(y_test, y_pred_prob_svm)\n",
    "print(\"\\nAUC SVM:  \" + str(auc_svm))\n",
    "\n",
    "#ROC plot\n",
    "plot_roc(y_test, y_pred_prob_svm)\n",
    "\n",
    "#Other Performance Metrics\n",
    "print(\"                                   Accuracy SVM: \" + str(custom_accuracy_score(y_test, y_pred_svm))) \n",
    "print(\"                   SENSITIVITY (aka RECALL) SVM: \" + str(custom_sensitivity_score(y_test, y_pred_svm)))\n",
    "print(\"                 SPECIFICITY (aka FALL-OUT) SVM: \" + str(custom_specificity_score(y_test, y_pred_svm)))\n",
    "print(\" POSITIVE PREDICTIVE VALUE, (aka PRECISION) SVM: \" + str(custom_ppv_score(y_test, y_pred_svm)))\n",
    "print(\"                 NEGATIVE PREDICTIVE VALUE) SVM: \" + str(custom_npv_score(y_test, y_pred_svm)))"
   ]
  },
  {
   "cell_type": "code",
   "execution_count": null,
   "metadata": {},
   "outputs": [],
   "source": []
  }
 ],
 "metadata": {
  "kernelspec": {
   "display_name": "Python 3",
   "language": "python",
   "name": "python3"
  },
  "language_info": {
   "codemirror_mode": {
    "name": "ipython",
    "version": 3
   },
   "file_extension": ".py",
   "mimetype": "text/x-python",
   "name": "python",
   "nbconvert_exporter": "python",
   "pygments_lexer": "ipython3",
   "version": "3.7.6"
  }
 },
 "nbformat": 4,
 "nbformat_minor": 4
}
